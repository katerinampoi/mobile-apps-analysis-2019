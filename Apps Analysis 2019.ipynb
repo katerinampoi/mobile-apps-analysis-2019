{
 "cells": [
  {
   "cell_type": "markdown",
   "metadata": {},
   "source": [
    "## Description and goal\n",
    "This work was carried out in the context of the online Dataquest Python courses.\n",
    "Hypothetically, as a member of the data science team, my goal for this project is to analyze the given data, in order to help our developers understand what type of apps are more like to atract more users. Building apps that are free to download and install, our main source of revenue consists of in-app ads. This means the more users that engage with the ads, the better. \n",
    "The results of the analysis will further help our developers know the needs of the market and be driven through new ways of building a useful app!\n",
    "\n",
    "## Datasets\n",
    "The data where the analysis is based on are:\n",
    "1) A data set containing data about approximately 10,000 Android apps from Google Play; Data collection in August 2018\n",
    "2) A data set containing data about approximately 7,000 iOS apps from the App Store; Data collection in July 2017.\n",
    "\n",
    "## Personal Statement\n",
    "In terms of personal developement, this project was a good oppurtunity for me to apply the Python tools I've learned so far. Having given the datasets, I had to access and explore the data, apply preprocessing techniques to further clean the data, overcome challenges of missing or unedited data. This required the creation of specific functions to handle the data and the use of frequency tables to better organize the data. \n",
    "\n",
    "I realized that bringing out results requires a good understanding of the data I'm working with. I experienced the challenges when working with unclear and big datasets and the ways to overcome them. Finally, communicating the results to third readers requires clear and comprehensive descriptions of my work."
   ]
  },
  {
   "cell_type": "markdown",
   "metadata": {},
   "source": [
    "**Opening and exploring the datasets**"
   ]
  },
  {
   "cell_type": "code",
   "execution_count": null,
   "metadata": {
    "collapsed": false
   },
   "outputs": [],
   "source": [
    "from csv import reader\n",
    "\n",
    "def open_dataset(file_name):\n",
    "    opened_file = open(file_name)\n",
    "    read_file = reader(opened_file)\n",
    "    data = list(read_file)\n",
    "    return data"
   ]
  },
  {
   "cell_type": "code",
   "execution_count": null,
   "metadata": {
    "collapsed": true
   },
   "outputs": [],
   "source": [
    "def explore_data(dataset,start, end, rows_and_columns=False):\n",
    "    dataset_slice = dataset[start:end]    \n",
    "    for row in dataset_slice:\n",
    "        print(row)\n",
    "        print('\\n')\n",
    "\n",
    "    if rows_and_columns:\n",
    "        print('Number of rows:', len(dataset))\n",
    "        print('Number of columns:', len(dataset[0]))"
   ]
  },
  {
   "cell_type": "code",
   "execution_count": null,
   "metadata": {
    "collapsed": false
   },
   "outputs": [],
   "source": [
    "app_store_apps = open_dataset(\"AppleStore.csv\")\n",
    "google_apps = open_dataset('googleplaystore.csv')\n",
    "app_store_header = app_store_apps[0]\n",
    "app_store_data = app_store_apps[1:]\n",
    "google_apps_header = google_apps[0]\n",
    "google_apps_data = google_apps[1:]\n",
    "\n",
    "print(app_store_header)\n",
    "print(google_apps_header)"
   ]
  },
  {
   "cell_type": "code",
   "execution_count": null,
   "metadata": {
    "collapsed": false
   },
   "outputs": [],
   "source": [
    "explore_data(app_store_data,0,3,True)"
   ]
  },
  {
   "cell_type": "code",
   "execution_count": null,
   "metadata": {
    "collapsed": false
   },
   "outputs": [],
   "source": [
    "print(google_apps_header)\n",
    "explore_data(google_apps, 1, 4, True)"
   ]
  },
  {
   "cell_type": "code",
   "execution_count": null,
   "metadata": {
    "collapsed": false,
    "scrolled": false
   },
   "outputs": [],
   "source": [
    "for app in google_apps_data:\n",
    "    name = app[0]\n",
    "    if name == \"Facebook\":\n",
    "        print(app)"
   ]
  },
  {
   "cell_type": "markdown",
   "metadata": {},
   "source": [
    "**Calculating duplicated entries**"
   ]
  },
  {
   "cell_type": "code",
   "execution_count": null,
   "metadata": {
    "collapsed": false,
    "scrolled": true
   },
   "outputs": [],
   "source": [
    "duplicate_google_apps = []\n",
    "unique_google_apps = []\n",
    "\n",
    "for app in google_apps_data:\n",
    "    name = app[0]\n",
    "    if name in unique_google_apps:\n",
    "        duplicate_google_apps.append(name)\n",
    "    else:\n",
    "        unique_google_apps.append(name)\n",
    "print(len (duplicate_google_apps))\n",
    "print (len(unique_google_apps))"
   ]
  },
  {
   "cell_type": "code",
   "execution_count": null,
   "metadata": {
    "collapsed": false
   },
   "outputs": [],
   "source": [
    "duplicate_app_store = []\n",
    "unique_app_store = []\n",
    "\n",
    "for app in app_store_data:\n",
    "    name = app[1]\n",
    "    if name in unique_app_store:\n",
    "        duplicate_app_store.append(name)\n",
    "    else:\n",
    "        unique_app_store.append(name)\n",
    "\n",
    "print(len(duplicate_app_store))\n",
    "print(len(unique_app_store))"
   ]
  },
  {
   "cell_type": "markdown",
   "metadata": {},
   "source": [
    "**Removing duplicated apps, keeping the rows with the most recent information on the app (maximum users'reviews)"
   ]
  },
  {
   "cell_type": "code",
   "execution_count": null,
   "metadata": {
    "collapsed": false,
    "scrolled": true
   },
   "outputs": [],
   "source": [
    "print(\"Expected length:\", len(google_apps_data) - 1181)\n",
    "#Expected length = 9659"
   ]
  },
  {
   "cell_type": "markdown",
   "metadata": {},
   "source": [
    "**Google apps with maximum reviews**"
   ]
  },
  {
   "cell_type": "code",
   "execution_count": null,
   "metadata": {
    "collapsed": false
   },
   "outputs": [],
   "source": [
    "google_reviews_max= {}\n",
    "\n",
    "for app in google_apps_data:\n",
    "    name = app[0]\n",
    "    n_reviews_str = app[3]\n",
    "    \n",
    "    if \"M\" in n_reviews_str:\n",
    "        n_reviews_str = n_reviews_str.replace(\"M\", \"\")\n",
    "        n_reviews = float(n_reviews_str) * 1000000\n",
    "    else:    \n",
    "        n_reviews = float(app[3])\n",
    "    \n",
    "    if name in google_reviews_max and google_reviews_max[name] < n_reviews :\n",
    "        google_reviews_max[name] = n_reviews\n",
    "    elif name not in google_reviews_max:\n",
    "        google_reviews_max[name] = n_reviews\n",
    "    \n",
    "    "
   ]
  },
  {
   "cell_type": "markdown",
   "metadata": {},
   "source": [
    "**iOS apps with maximum reviews**"
   ]
  },
  {
   "cell_type": "code",
   "execution_count": null,
   "metadata": {
    "collapsed": false
   },
   "outputs": [],
   "source": [
    "app_store_reviews_max = {} \n",
    "\n",
    "for app in app_store_data :\n",
    "    name = app[1]\n",
    "    n_reviews_str = app[5]\n",
    "    \n",
    "    if \"M\" in n_reviews_str:\n",
    "        n_reviews_str = n_reviews_str.replace(\"M\", \"\")\n",
    "        n_reviews = float(n_reviews_str) * 1000000\n",
    "    else:    \n",
    "        n_reviews = float(app[5])\n",
    "    \n",
    "    if name in app_store_reviews_max and app_store_reviews_max[name] < n_reviews :\n",
    "        app_store_reviews_max[name] = n_reviews\n",
    "    elif name not in app_store_reviews_max:\n",
    "        app_store_reviews_max[name] = n_reviews\n",
    "        "
   ]
  },
  {
   "cell_type": "markdown",
   "metadata": {},
   "source": [
    "** Cleaning Google apps**"
   ]
  },
  {
   "cell_type": "code",
   "execution_count": null,
   "metadata": {
    "collapsed": false
   },
   "outputs": [],
   "source": [
    "google_apps_data_clean = []\n",
    "google_already_added = []\n",
    "\n",
    "for app in google_apps_data:\n",
    "    name = app[0]\n",
    "    n_reviews_str = app[3]\n",
    "    \n",
    "    if \"M\" in n_reviews_str:\n",
    "        n_reviews_str = n_reviews_str.replace(\"M\", \"\")\n",
    "        n_reviews = float(n_reviews_str) * 1000000\n",
    "    else:    \n",
    "        n_reviews = float(app[3])\n",
    "    \n",
    "    if (n_reviews == google_reviews_max[name]) and (name not in google_already_added):\n",
    "        google_apps_data_clean.append(app)\n",
    "        google_already_added.append(name)  \n",
    "    "
   ]
  },
  {
   "cell_type": "markdown",
   "metadata": {},
   "source": [
    "**Cleaning iOS apps**"
   ]
  },
  {
   "cell_type": "code",
   "execution_count": null,
   "metadata": {
    "collapsed": false
   },
   "outputs": [],
   "source": [
    "app_store_data_clean = []\n",
    "app_store_already_added = []\n",
    "\n",
    "for app in app_store_data:\n",
    "    name = app[1]\n",
    "    n_reviews_str = app[5]\n",
    "    \n",
    "    if \"M\" in n_reviews_str:\n",
    "        n_reviews_str = n_reviews_str.replace(\"M\", \"\")\n",
    "        n_reviews = float(n_reviews_str) * 1000000\n",
    "    else:    \n",
    "        n_reviews = float(app[5])\n",
    "    \n",
    "    if (n_reviews == app_store_reviews_max[name]) and (name not in app_store_already_added):\n",
    "        app_store_data_clean.append(app)\n",
    "        app_store_already_added.append(name) \n"
   ]
  },
  {
   "cell_type": "markdown",
   "metadata": {},
   "source": [
    "**Distinguishing the english apps**"
   ]
  },
  {
   "cell_type": "code",
   "execution_count": null,
   "metadata": {
    "collapsed": false
   },
   "outputs": [],
   "source": [
    "def set_finder(a_string):\n",
    "    counter = 0    \n",
    "    for character in a_string:        \n",
    "        if ord(character) > 127:\n",
    "            counter += 1 \n",
    "        if counter >= 3 :\n",
    "            return False\n",
    "        \n",
    "    return True"
   ]
  },
  {
   "cell_type": "code",
   "execution_count": null,
   "metadata": {
    "collapsed": false
   },
   "outputs": [],
   "source": [
    "english_google_apps = []\n",
    "\n",
    "for app in google_apps_data_clean:\n",
    "    name = app[0]\n",
    "    if set_finder(name):\n",
    "        english_google_apps.append(app)    "
   ]
  },
  {
   "cell_type": "code",
   "execution_count": null,
   "metadata": {
    "collapsed": false
   },
   "outputs": [],
   "source": [
    "english_app_store = []\n",
    "\n",
    "for app in app_store_data_clean:\n",
    "    name = app[1]\n",
    "    if set_finder(name):\n",
    "        english_app_store.append(app)"
   ]
  },
  {
   "cell_type": "code",
   "execution_count": null,
   "metadata": {
    "collapsed": false
   },
   "outputs": [],
   "source": [
    "free_google_apps = []\n",
    "non_free_google_apps = []\n",
    "for app in english_google_apps:\n",
    "    name = app[0]\n",
    "    price = app[7]\n",
    "    if price == \"0\":\n",
    "        free_google_apps.append(app)\n",
    "    else:\n",
    "        non_free_google_apps.append(name)\n",
    "    \n",
    "print(len(free_google_apps))\n",
    "print(len(non_free_google_apps))"
   ]
  },
  {
   "cell_type": "code",
   "execution_count": null,
   "metadata": {
    "collapsed": false
   },
   "outputs": [],
   "source": [
    "free_app_store = []\n",
    "non_free_app_store = []\n",
    "\n",
    "for app in english_app_store:\n",
    "    name = app[1]\n",
    "    price = app[4]\n",
    "    \n",
    "    if price == \"0.0\":\n",
    "        free_app_store.append(app)\n",
    "    else:\n",
    "        non_free_app_store.append(name)\n",
    "print(len(free_app_store))\n",
    "        "
   ]
  },
  {
   "cell_type": "markdown",
   "metadata": {},
   "source": [
    "**Building frequency tables for the \"prime_genre\" column of the App Store dataset and \"Genres and Category\" columns of the Google Play dataset**\n"
   ]
  },
  {
   "cell_type": "markdown",
   "metadata": {},
   "source": [
    "**Generating frequency tables that show percentages**"
   ]
  },
  {
   "cell_type": "code",
   "execution_count": null,
   "metadata": {
    "collapsed": false
   },
   "outputs": [],
   "source": [
    "def freq_table(dataset, index):\n",
    "    table = {}\n",
    "    \n",
    "    for row in dataset:\n",
    "        value = row[index]\n",
    "        if value in table:\n",
    "            table[value] += 1\n",
    "        else:\n",
    "            table[value] = 1\n",
    "        \n",
    "    table_percent = {}\n",
    "    for value in table:\n",
    "        table_percent[value] = table[value] / len(dataset) * 100\n",
    "    \n",
    "    return table_percent"
   ]
  },
  {
   "cell_type": "markdown",
   "metadata": {},
   "source": [
    "**Displaying the percentages in a descending order**"
   ]
  },
  {
   "cell_type": "code",
   "execution_count": null,
   "metadata": {
    "collapsed": true
   },
   "outputs": [],
   "source": [
    "def display_table(dataset, index):\n",
    "    table = freq_table(dataset, index)\n",
    "    table_display = []\n",
    "    for key in table:\n",
    "        key_val_as_tuple = (table[key], key)\n",
    "        table_display.append(key_val_as_tuple)\n",
    "        \n",
    "    table_sorted = sorted(table_display, reverse = True)\n",
    "    for entry in table_sorted:\n",
    "        print(entry[1], ':', entry[0])"
   ]
  },
  {
   "cell_type": "code",
   "execution_count": null,
   "metadata": {
    "collapsed": false
   },
   "outputs": [],
   "source": [
    "display_table(free_app_store, 11)"
   ]
  },
  {
   "cell_type": "markdown",
   "metadata": {},
   "source": [
    "**App Stores apps - Percentage Table analysis**\n",
    "\n",
    "Having a look at the percentage table created for the prime_genre column, we can see that \"Games\" is the dominant category of the Free English apps (58%). \"Entertainment\" then occupies 7% of the dataset. \"Photo and Video\" apps correspond to almost 5% of the dataset. \"Education\" and \"Social Networking\" share similar percentages, around 3,5%. The percentages of the rest of the categories range between 0,1 and 3%.\n",
    "\n",
    "The general impression is that App Store  is dominated by apps that are designed for fun (games, entertainment, photo and video, social networking, sports, music, etc.), while apps with practical purposes (education, shopping, utilities, productivity, lifestyle, etc.) are more rare. However, the fact that fun apps are the most numerous doesn't also imply that they also have the greatest number of users — the demand might not be the same as the offer."
   ]
  },
  {
   "cell_type": "code",
   "execution_count": null,
   "metadata": {
    "collapsed": false
   },
   "outputs": [],
   "source": [
    "display_table(free_google_apps, 1) #Category"
   ]
  },
  {
   "cell_type": "markdown",
   "metadata": {},
   "source": [
    "The landscape seems significantly different on Google Play: there are not that many apps designed for fun, and it seems that a good number of apps are designed for practical purposes (family, tools, business, lifestyle, productivity, etc.). However, if we investigate this further, we can see that the family category (which accounts for almost 19% of the apps) means mostly games for kids.\n",
    "Even so, practical apps seem to have a better representation on Google Play compared to App Store. This picture is also confirmed by the frequency table we see for the Genres column:"
   ]
  },
  {
   "cell_type": "code",
   "execution_count": null,
   "metadata": {
    "collapsed": false
   },
   "outputs": [],
   "source": [
    "display_table(free_google_apps, 9) #Genres"
   ]
  },
  {
   "cell_type": "markdown",
   "metadata": {
    "collapsed": true
   },
   "source": [
    "One way to find out what genres are the most popular (have the most users) is to calculate the average number of installs for each app genre. For the Google Play data set, we can find this information in the Installs column, but this information is missing for the App Store data set. As a workaround, we'll take the total number of user ratings as a proxy, which we can find in the rating_count_tot app."
   ]
  },
  {
   "cell_type": "markdown",
   "metadata": {},
   "source": [
    "**Calculating the average number of user ratings per app genre on the App Store**"
   ]
  },
  {
   "cell_type": "code",
   "execution_count": null,
   "metadata": {
    "collapsed": false
   },
   "outputs": [],
   "source": [
    "genres_ios = freq_table(free_app_store, -5)\n",
    "\n",
    "for genre in genres_ios:\n",
    "    total = 0 ##this variable stores the sum of user ratings, specific to each genre\n",
    "    len_genre = 0 ##this variable stores the number of apps specific to each genre\n",
    "    for app in free_app_store:\n",
    "        genre_app = app[-5]\n",
    "        if genre_app == genre:\n",
    "            n_ratings = float(app[5])\n",
    "            total += n_ratings\n",
    "            len_genre =+ 1\n",
    "    avg_ratings = total / len_genre\n",
    "    print(genre, \":\", avg_ratings)"
   ]
  },
  {
   "cell_type": "markdown",
   "metadata": {
    "collapsed": true
   },
   "source": [
    "Looking at the results from our average-rating table, we can see \"Games\" has the highest mean of ratings (42.705.789,00)."
   ]
  },
  {
   "cell_type": "code",
   "execution_count": null,
   "metadata": {
    "collapsed": false
   },
   "outputs": [],
   "source": [
    "google_installs = freq_table(free_google_apps, 1)\n",
    "for category in google_installs:\n",
    "    total = 0\n",
    "    len_category = 0\n",
    "    for app in free_google_apps:\n",
    "        category_app = app[1]\n",
    "        if category_app == category:\n",
    "            n_installs = (app[5])\n",
    "            n_installs = n_installs.replace(',', '')\n",
    "            n_installs = n_installs.replace('+', '')\n",
    "            total += float(n_installs)\n",
    "            len_category +=1\n",
    "    avg_n_installs = total / len_category\n",
    "    print(category, \":\", avg_n_installs)"
   ]
  },
  {
   "cell_type": "code",
   "execution_count": null,
   "metadata": {
    "collapsed": true
   },
   "outputs": [],
   "source": []
  }
 ],
 "metadata": {
  "kernelspec": {
   "display_name": "Python 3",
   "language": "python",
   "name": "python3"
  },
  "language_info": {
   "codemirror_mode": {
    "name": "ipython",
    "version": 3
   },
   "file_extension": ".py",
   "mimetype": "text/x-python",
   "name": "python",
   "nbconvert_exporter": "python",
   "pygments_lexer": "ipython3",
   "version": "3.4.3"
  }
 },
 "nbformat": 4,
 "nbformat_minor": 2
}
