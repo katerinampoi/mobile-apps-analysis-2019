{
 "cells": [
  {
   "cell_type": "markdown",
   "metadata": {},
   "source": [
    "## Description and goal\n",
    "This work was carried out in the context of the online Dataquest Python courses.\n",
    "Hypothetically, as a member of the data science team, my goal for this project is to analyze the given data, in order to help our developers understand what type of apps are more like to atract more users. Building apps that are free to download and install, our main source of revenue consists of in-app ads. This means the more users that engage with the ads, the better. \n",
    "The results of the analysis will further help our developers know the needs of the market and be driven through new ways of building a useful app!\n",
    "\n",
    "## Datasets\n",
    "The data where the analysis is based on are:\n",
    "1) A data set containing data about approximately 10,000 Android apps from Google Play; Data collection in August 2018\n",
    "2) A data set containing data about approximately 7,000 iOS apps from the App Store; Data collection in July 2017.\n",
    "\n",
    "## Personal Statement\n",
    "In terms of personal developement, this project was a good oppurtunity for me to apply the Python tools I've learned so far. Having given the datasets, I had to access and explore the data, apply preprocessing techniques to further clean the data, overcome challenges of missing or unedited data. This required the creation of specific functions to handle the data and the use of frequency tables to better organize the data. \n",
    "\n",
    "I realized that bringing out results requires a good understanding of the data I'm working with. I experienced the challenges when working with unclear and big datasets and the ways to overcome them. Finally, communicating the results to third readers requires clear and comprehensive descriptions of my work."
   ]
  },
  {
   "cell_type": "markdown",
   "metadata": {},
   "source": [
    "**Opening and exploring the datasets**"
   ]
  },
  {
   "cell_type": "code",
   "execution_count": 74,
   "metadata": {},
   "outputs": [],
   "source": [
    "import pandas as pd\n",
    "import matplotlib.pyplot as plt\n",
    "from csv import reader"
   ]
  },
  {
   "cell_type": "code",
   "execution_count": 75,
   "metadata": {},
   "outputs": [],
   "source": [
    "def open_dataset(file_name):\n",
    "    opened_file = open(file_name, encoding=\"utf8\")\n",
    "    read_file = reader(opened_file)\n",
    "    data = list(read_file)\n",
    "    return data"
   ]
  },
  {
   "cell_type": "code",
   "execution_count": 76,
   "metadata": {},
   "outputs": [],
   "source": [
    "def explore_data(dataset,start, end, rows_and_columns=False):\n",
    "    dataset_slice = dataset[start:end]    \n",
    "    for row in dataset_slice:\n",
    "        print(row)\n",
    "        print('\\n')\n",
    "\n",
    "    if rows_and_columns:\n",
    "        print('Number of rows:', len(dataset))\n",
    "        print('Number of columns:', len(dataset[0]))"
   ]
  },
  {
   "cell_type": "code",
   "execution_count": 77,
   "metadata": {},
   "outputs": [
    {
     "name": "stdout",
     "output_type": "stream",
     "text": [
      "['id', 'track_name', 'size_bytes', 'currency', 'price', 'rating_count_tot', 'rating_count_ver', 'user_rating', 'user_rating_ver', 'ver', 'cont_rating', 'prime_genre', 'sup_devices.num', 'ipadSc_urls.num', 'lang.num', 'vpp_lic']\n",
      "['App', 'Category', 'Rating', 'Reviews', 'Size', 'Installs', 'Type', 'Price', 'Content Rating', 'Genres', 'Last Updated', 'Current Ver', 'Android Ver']\n"
     ]
    }
   ],
   "source": [
    "app_store_apps = open_dataset(\"AppleStore.csv\")\n",
    "google_apps = open_dataset('googleplaystore.csv')\n",
    "app_store_header = app_store_apps[0]\n",
    "app_store_data = app_store_apps[1:]\n",
    "google_apps_header = google_apps[0]\n",
    "google_apps_data = google_apps[1:]\n",
    "\n",
    "print(app_store_header)\n",
    "print(google_apps_header)"
   ]
  },
  {
   "cell_type": "code",
   "execution_count": 78,
   "metadata": {},
   "outputs": [
    {
     "name": "stdout",
     "output_type": "stream",
     "text": [
      "['284882215', 'Facebook', '389879808', 'USD', '0.0', '2974676', '212', '3.5', '3.5', '95.0', '4+', 'Social Networking', '37', '1', '29', '1']\n",
      "\n",
      "\n",
      "['389801252', 'Instagram', '113954816', 'USD', '0.0', '2161558', '1289', '4.5', '4.0', '10.23', '12+', 'Photo & Video', '37', '0', '29', '1']\n",
      "\n",
      "\n",
      "['529479190', 'Clash of Clans', '116476928', 'USD', '0.0', '2130805', '579', '4.5', '4.5', '9.24.12', '9+', 'Games', '38', '5', '18', '1']\n",
      "\n",
      "\n",
      "Number of rows: 7197\n",
      "Number of columns: 16\n"
     ]
    }
   ],
   "source": [
    "explore_data(app_store_data,0,3,True)"
   ]
  },
  {
   "cell_type": "code",
   "execution_count": 79,
   "metadata": {},
   "outputs": [
    {
     "name": "stdout",
     "output_type": "stream",
     "text": [
      "['App', 'Category', 'Rating', 'Reviews', 'Size', 'Installs', 'Type', 'Price', 'Content Rating', 'Genres', 'Last Updated', 'Current Ver', 'Android Ver']\n",
      "['Photo Editor & Candy Camera & Grid & ScrapBook', 'ART_AND_DESIGN', '4.1', '159', '19M', '10,000+', 'Free', '0', 'Everyone', 'Art & Design', 'January 7, 2018', '1.0.0', '4.0.3 and up']\n",
      "\n",
      "\n",
      "['Coloring book moana', 'ART_AND_DESIGN', '3.9', '967', '14M', '500,000+', 'Free', '0', 'Everyone', 'Art & Design;Pretend Play', 'January 15, 2018', '2.0.0', '4.0.3 and up']\n",
      "\n",
      "\n",
      "['U Launcher Lite – FREE Live Cool Themes, Hide Apps', 'ART_AND_DESIGN', '4.7', '87510', '8.7M', '5,000,000+', 'Free', '0', 'Everyone', 'Art & Design', 'August 1, 2018', '1.2.4', '4.0.3 and up']\n",
      "\n",
      "\n",
      "Number of rows: 10842\n",
      "Number of columns: 13\n"
     ]
    }
   ],
   "source": [
    "print(google_apps_header)\n",
    "explore_data(google_apps, 1, 4, True)"
   ]
  },
  {
   "cell_type": "code",
   "execution_count": 80,
   "metadata": {
    "scrolled": false
   },
   "outputs": [
    {
     "name": "stdout",
     "output_type": "stream",
     "text": [
      "['Facebook', 'SOCIAL', '4.1', '78158306', 'Varies with device', '1,000,000,000+', 'Free', '0', 'Teen', 'Social', 'August 3, 2018', 'Varies with device', 'Varies with device']\n",
      "['Facebook', 'SOCIAL', '4.1', '78128208', 'Varies with device', '1,000,000,000+', 'Free', '0', 'Teen', 'Social', 'August 3, 2018', 'Varies with device', 'Varies with device']\n"
     ]
    }
   ],
   "source": [
    "for app in google_apps_data:\n",
    "    name = app[0]\n",
    "    if name == \"Facebook\":\n",
    "        print(app)"
   ]
  },
  {
   "cell_type": "markdown",
   "metadata": {},
   "source": [
    "**Calculating duplicated entries**"
   ]
  },
  {
   "cell_type": "code",
   "execution_count": 81,
   "metadata": {
    "scrolled": true
   },
   "outputs": [
    {
     "name": "stdout",
     "output_type": "stream",
     "text": [
      "1181\n",
      "9660\n"
     ]
    }
   ],
   "source": [
    "duplicate_google_apps = []\n",
    "unique_google_apps = []\n",
    "\n",
    "for app in google_apps_data:\n",
    "    name = app[0]\n",
    "    if name in unique_google_apps:\n",
    "        duplicate_google_apps.append(name)\n",
    "    else:\n",
    "        unique_google_apps.append(name)\n",
    "print(len (duplicate_google_apps))\n",
    "print (len(unique_google_apps))"
   ]
  },
  {
   "cell_type": "code",
   "execution_count": 82,
   "metadata": {},
   "outputs": [
    {
     "name": "stdout",
     "output_type": "stream",
     "text": [
      "2\n",
      "7195\n"
     ]
    }
   ],
   "source": [
    "duplicate_app_store = []\n",
    "unique_app_store = []\n",
    "\n",
    "for app in app_store_data:\n",
    "    name = app[1]\n",
    "    if name in unique_app_store:\n",
    "        duplicate_app_store.append(name)\n",
    "    else:\n",
    "        unique_app_store.append(name)\n",
    "\n",
    "print(len(duplicate_app_store))\n",
    "print(len(unique_app_store))"
   ]
  },
  {
   "cell_type": "markdown",
   "metadata": {},
   "source": [
    "**Removing duplicated apps, keeping the rows with the most recent information on the app (maximum users'reviews)"
   ]
  },
  {
   "cell_type": "code",
   "execution_count": 83,
   "metadata": {
    "scrolled": true
   },
   "outputs": [
    {
     "name": "stdout",
     "output_type": "stream",
     "text": [
      "Expected length: 9660\n"
     ]
    }
   ],
   "source": [
    "print(\"Expected length:\", len(google_apps_data) - 1181)\n",
    "#Expected length = 9659"
   ]
  },
  {
   "cell_type": "markdown",
   "metadata": {},
   "source": [
    "**Google apps with maximum reviews**"
   ]
  },
  {
   "cell_type": "code",
   "execution_count": 84,
   "metadata": {},
   "outputs": [],
   "source": [
    "google_reviews_max= {}\n",
    "\n",
    "for app in google_apps_data:\n",
    "    name = app[0]\n",
    "    n_reviews_str = app[3]\n",
    "    \n",
    "    if \"M\" in n_reviews_str:\n",
    "        n_reviews_str = n_reviews_str.replace(\"M\", \"\")\n",
    "        n_reviews = float(n_reviews_str) * 1000000\n",
    "    else:    \n",
    "        n_reviews = float(app[3])\n",
    "    \n",
    "    if name in google_reviews_max and google_reviews_max[name] < n_reviews :\n",
    "        google_reviews_max[name] = n_reviews\n",
    "    elif name not in google_reviews_max:\n",
    "        google_reviews_max[name] = n_reviews\n",
    "    \n",
    "    "
   ]
  },
  {
   "cell_type": "markdown",
   "metadata": {},
   "source": [
    "**iOS apps with maximum reviews**"
   ]
  },
  {
   "cell_type": "code",
   "execution_count": 85,
   "metadata": {},
   "outputs": [],
   "source": [
    "app_store_reviews_max = {} \n",
    "\n",
    "for app in app_store_data :\n",
    "    name = app[1]\n",
    "    n_reviews_str = app[5]\n",
    "    \n",
    "    if \"M\" in n_reviews_str:\n",
    "        n_reviews_str = n_reviews_str.replace(\"M\", \"\")\n",
    "        n_reviews = float(n_reviews_str) * 1000000\n",
    "    else:    \n",
    "        n_reviews = float(app[5])\n",
    "    \n",
    "    if name in app_store_reviews_max and app_store_reviews_max[name] < n_reviews :\n",
    "        app_store_reviews_max[name] = n_reviews\n",
    "    elif name not in app_store_reviews_max:\n",
    "        app_store_reviews_max[name] = n_reviews\n",
    "        "
   ]
  },
  {
   "cell_type": "markdown",
   "metadata": {},
   "source": [
    "** Cleaning Google apps**"
   ]
  },
  {
   "cell_type": "code",
   "execution_count": 86,
   "metadata": {},
   "outputs": [],
   "source": [
    "google_apps_data_clean = []\n",
    "google_already_added = []\n",
    "\n",
    "for app in google_apps_data:\n",
    "    name = app[0]\n",
    "    n_reviews_str = app[3]\n",
    "    \n",
    "    if \"M\" in n_reviews_str:\n",
    "        n_reviews_str = n_reviews_str.replace(\"M\", \"\")\n",
    "        n_reviews = float(n_reviews_str) * 1000000\n",
    "    else:    \n",
    "        n_reviews = float(app[3])\n",
    "    \n",
    "    if (n_reviews == google_reviews_max[name]) and (name not in google_already_added):\n",
    "        google_apps_data_clean.append(app)\n",
    "        google_already_added.append(name)  \n",
    "    "
   ]
  },
  {
   "cell_type": "markdown",
   "metadata": {},
   "source": [
    "**Cleaning iOS apps**"
   ]
  },
  {
   "cell_type": "code",
   "execution_count": 87,
   "metadata": {},
   "outputs": [],
   "source": [
    "app_store_data_clean = []\n",
    "app_store_already_added = []\n",
    "\n",
    "for app in app_store_data:\n",
    "    name = app[1]\n",
    "    n_reviews_str = app[5]\n",
    "    \n",
    "    if \"M\" in n_reviews_str:\n",
    "        n_reviews_str = n_reviews_str.replace(\"M\", \"\")\n",
    "        n_reviews = float(n_reviews_str) * 1000000\n",
    "    else:    \n",
    "        n_reviews = float(app[5])\n",
    "    \n",
    "    if (n_reviews == app_store_reviews_max[name]) and (name not in app_store_already_added):\n",
    "        app_store_data_clean.append(app)\n",
    "        app_store_already_added.append(name) \n"
   ]
  },
  {
   "cell_type": "markdown",
   "metadata": {},
   "source": [
    "**Distinguishing the english apps**"
   ]
  },
  {
   "cell_type": "code",
   "execution_count": 88,
   "metadata": {},
   "outputs": [],
   "source": [
    "def set_finder(a_string):\n",
    "    counter = 0    \n",
    "    for character in a_string:        \n",
    "        if ord(character) > 127:\n",
    "            counter += 1 \n",
    "        if counter >= 3 :\n",
    "            return False\n",
    "        \n",
    "    return True"
   ]
  },
  {
   "cell_type": "code",
   "execution_count": 89,
   "metadata": {},
   "outputs": [],
   "source": [
    "english_google_apps = []\n",
    "\n",
    "for app in google_apps_data_clean:\n",
    "    name = app[0]\n",
    "    if set_finder(name):\n",
    "        english_google_apps.append(app)    "
   ]
  },
  {
   "cell_type": "code",
   "execution_count": 90,
   "metadata": {},
   "outputs": [],
   "source": [
    "english_app_store = []\n",
    "\n",
    "for app in app_store_data_clean:\n",
    "    name = app[1]\n",
    "    if set_finder(name):\n",
    "        english_app_store.append(app)"
   ]
  },
  {
   "cell_type": "code",
   "execution_count": 91,
   "metadata": {},
   "outputs": [
    {
     "name": "stdout",
     "output_type": "stream",
     "text": [
      "8848\n",
      "750\n"
     ]
    }
   ],
   "source": [
    "free_google_apps = []\n",
    "non_free_google_apps = []\n",
    "for app in english_google_apps:\n",
    "    name = app[0]\n",
    "    price = app[7]\n",
    "    if price == \"0\":\n",
    "        free_google_apps.append(app)\n",
    "    else:\n",
    "        non_free_google_apps.append(name)\n",
    "    \n",
    "print(len(free_google_apps))\n",
    "print(len(non_free_google_apps))"
   ]
  },
  {
   "cell_type": "code",
   "execution_count": 92,
   "metadata": {},
   "outputs": [
    {
     "name": "stdout",
     "output_type": "stream",
     "text": [
      "3201\n"
     ]
    }
   ],
   "source": [
    "free_app_store = []\n",
    "non_free_app_store = []\n",
    "\n",
    "for app in english_app_store:\n",
    "    name = app[1]\n",
    "    price = app[4]\n",
    "    \n",
    "    if price == \"0.0\":\n",
    "        free_app_store.append(app)\n",
    "    else:\n",
    "        non_free_app_store.append(name)\n",
    "print(len(free_app_store))\n",
    "        "
   ]
  },
  {
   "cell_type": "markdown",
   "metadata": {},
   "source": [
    "**Building frequency tables for the \"prime_genre\" column of the App Store dataset and \"Genres and Category\" columns of the Google Play dataset**\n"
   ]
  },
  {
   "cell_type": "markdown",
   "metadata": {},
   "source": [
    "**Generating frequency tables that show percentages**"
   ]
  },
  {
   "cell_type": "code",
   "execution_count": 93,
   "metadata": {},
   "outputs": [],
   "source": [
    "def freq_table(dataset, index):\n",
    "    table = {}\n",
    "    \n",
    "    for row in dataset:\n",
    "        value = row[index]\n",
    "        if value in table:\n",
    "            table[value] += 1\n",
    "        else:\n",
    "            table[value] = 1\n",
    "        \n",
    "    table_percent = {}\n",
    "    for value in table:\n",
    "        table_percent[value] = table[value] / len(dataset) * 100\n",
    "    \n",
    "    return table_percent"
   ]
  },
  {
   "cell_type": "markdown",
   "metadata": {},
   "source": [
    "**Displaying the percentages in a descending order**"
   ]
  },
  {
   "cell_type": "code",
   "execution_count": 100,
   "metadata": {},
   "outputs": [],
   "source": [
    "def display_table(dataset, index):\n",
    "    table = freq_table(dataset, index)\n",
    "    table_display = []\n",
    "    for key in table:\n",
    "        key_val_as_tuple = (table[key], key)\n",
    "        table_display.append(key_val_as_tuple)\n",
    "        \n",
    "    table_sorted = sorted(table_display, reverse = True)\n",
    "    table_sorted_df = pd.DataFrame(table_sorted, columns=['Percentage', 'Characteristic'] )\n",
    "    for entry in table_sorted:\n",
    "        print(entry[1], ':', entry[0])\n",
    "        \n",
    "    return table_sorted_df"
   ]
  },
  {
   "cell_type": "code",
   "execution_count": 105,
   "metadata": {},
   "outputs": [
    {
     "name": "stdout",
     "output_type": "stream",
     "text": [
      "Games : 58.23180256169947\n",
      "Entertainment : 7.841299593876913\n",
      "Photo & Video : 4.99843798812871\n",
      "Education : 3.6863480162449234\n",
      "Social Networking : 3.3114651671352706\n",
      "Shopping : 2.592939706341768\n",
      "Utilities : 2.4679787566385505\n",
      "Sports : 2.1555763823805063\n",
      "Music : 2.0618556701030926\n",
      "Health & Fitness : 2.0306154326772883\n",
      "Productivity : 1.7494532958450486\n",
      "Lifestyle : 1.5620118712902218\n",
      "News : 1.3433302093095907\n",
      "Travel : 1.2496094970321776\n",
      "Finance : 1.0934083099031553\n",
      "Weather : 0.8747266479225243\n",
      "Food & Drink : 0.8122461730709154\n",
      "Reference : 0.5310840362386754\n",
      "Business : 0.5310840362386754\n",
      "Book : 0.37488284910965325\n",
      "Navigation : 0.18744142455482662\n",
      "Medical : 0.18744142455482662\n",
      "Catalogs : 0.12496094970321774\n"
     ]
    },
    {
     "data": {
      "text/html": [
       "<div>\n",
       "<style scoped>\n",
       "    .dataframe tbody tr th:only-of-type {\n",
       "        vertical-align: middle;\n",
       "    }\n",
       "\n",
       "    .dataframe tbody tr th {\n",
       "        vertical-align: top;\n",
       "    }\n",
       "\n",
       "    .dataframe thead th {\n",
       "        text-align: right;\n",
       "    }\n",
       "</style>\n",
       "<table border=\"1\" class=\"dataframe\">\n",
       "  <thead>\n",
       "    <tr style=\"text-align: right;\">\n",
       "      <th></th>\n",
       "      <th>Percentage</th>\n",
       "      <th>Characteristic</th>\n",
       "    </tr>\n",
       "  </thead>\n",
       "  <tbody>\n",
       "    <tr>\n",
       "      <th>0</th>\n",
       "      <td>58.231803</td>\n",
       "      <td>Games</td>\n",
       "    </tr>\n",
       "    <tr>\n",
       "      <th>1</th>\n",
       "      <td>7.841300</td>\n",
       "      <td>Entertainment</td>\n",
       "    </tr>\n",
       "    <tr>\n",
       "      <th>2</th>\n",
       "      <td>4.998438</td>\n",
       "      <td>Photo &amp; Video</td>\n",
       "    </tr>\n",
       "    <tr>\n",
       "      <th>3</th>\n",
       "      <td>3.686348</td>\n",
       "      <td>Education</td>\n",
       "    </tr>\n",
       "    <tr>\n",
       "      <th>4</th>\n",
       "      <td>3.311465</td>\n",
       "      <td>Social Networking</td>\n",
       "    </tr>\n",
       "  </tbody>\n",
       "</table>\n",
       "</div>"
      ],
      "text/plain": [
       "   Percentage     Characteristic\n",
       "0   58.231803              Games\n",
       "1    7.841300      Entertainment\n",
       "2    4.998438      Photo & Video\n",
       "3    3.686348          Education\n",
       "4    3.311465  Social Networking"
      ]
     },
     "execution_count": 105,
     "metadata": {},
     "output_type": "execute_result"
    }
   ],
   "source": [
    "genre_table_df = display_table(free_app_store, 11)\n",
    "genre_table_df.head()"
   ]
  },
  {
   "cell_type": "code",
   "execution_count": 109,
   "metadata": {},
   "outputs": [
    {
     "data": {
      "text/plain": [
       "<matplotlib.axes._subplots.AxesSubplot at 0x278a7964dd8>"
      ]
     },
     "execution_count": 109,
     "metadata": {},
     "output_type": "execute_result"
    },
    {
     "data": {
      "image/png": "[encoded data removed]",
      "text/plain": [
       "<Figure size 432x288 with 1 Axes>"
      ]
     },
     "metadata": {
      "needs_background": "light"
     },
     "output_type": "display_data"
    }
   ],
   "source": [
    "genre_table_df.plot.bar(x= 'Characteristic', y=\"Percentage\")"
   ]
  },
  {
   "cell_type": "markdown",
   "metadata": {},
   "source": [
    "**App Stores apps - Percentage Table analysis**\n",
    "\n",
    "Having a look at the percentage table created for the prime_genre column, we can see that \"Games\" is the dominant category of the Free English apps (58%). \"Entertainment\" then occupies 7% of the dataset. \"Photo and Video\" apps correspond to almost 5% of the dataset. \"Education\" and \"Social Networking\" share similar percentages, around 3,5%. The percentages of the rest of the categories range between 0,1 and 3%.\n",
    "\n",
    "The general impression is that App Store  is dominated by apps that are designed for fun (games, entertainment, photo and video, social networking, sports, music, etc.), while apps with practical purposes (education, shopping, utilities, productivity, lifestyle, etc.) are more rare. However, the fact that fun apps are the most numerous doesn't also imply that they also have the greatest number of users — the demand might not be the same as the offer."
   ]
  },
  {
   "cell_type": "code",
   "execution_count": 96,
   "metadata": {},
   "outputs": [
    {
     "name": "stdout",
     "output_type": "stream",
     "text": [
      "[(18.942133815551536, 'FAMILY'), (9.697106690777577, 'GAME'), (8.453887884267631, 'TOOLS'), (4.599909584086799, 'BUSINESS'), (3.899186256781193, 'PRODUCTIVITY'), (3.887884267631103, 'LIFESTYLE'), (3.7070524412296564, 'FINANCE'), (3.5375226039783, 'MEDICAL'), (3.390596745027125, 'SPORTS'), (3.322784810126582, 'PERSONALIZATION'), (3.2323688969258586, 'COMMUNICATION'), (3.0854430379746836, 'HEALTH_AND_FITNESS'), (2.949819168173599, 'PHOTOGRAPHY'), (2.802893309222423, 'NEWS_AND_MAGAZINES'), (2.667269439421338, 'SOCIAL'), (2.3395117540687163, 'TRAVEL_AND_LOCAL'), (2.2490958408679926, 'SHOPPING'), (2.1360759493670884, 'BOOKS_AND_REFERENCE'), (1.8648282097649187, 'DATING'), (1.7970162748643763, 'VIDEO_PLAYERS'), (1.3901446654611211, 'MAPS_AND_NAVIGATION'), (1.2432188065099457, 'FOOD_AND_DRINK'), (1.164104882459313, 'EDUCATION'), (0.9606690777576853, 'ENTERTAINMENT'), (0.9380650994575045, 'LIBRARIES_AND_DEMO'), (0.9267631103074141, 'AUTO_AND_VEHICLES'), (0.8024412296564195, 'HOUSE_AND_HOME'), (0.7911392405063291, 'WEATHER'), (0.7120253164556962, 'EVENTS'), (0.6555153707052441, 'PARENTING'), (0.6442133815551537, 'ART_AND_DESIGN'), (0.6103074141048824, 'COMICS'), (0.599005424954792, 'BEAUTY')]\n",
      "FAMILY : 18.942133815551536\n",
      "GAME : 9.697106690777577\n",
      "TOOLS : 8.453887884267631\n",
      "BUSINESS : 4.599909584086799\n",
      "PRODUCTIVITY : 3.899186256781193\n",
      "LIFESTYLE : 3.887884267631103\n",
      "FINANCE : 3.7070524412296564\n",
      "MEDICAL : 3.5375226039783\n",
      "SPORTS : 3.390596745027125\n",
      "PERSONALIZATION : 3.322784810126582\n",
      "COMMUNICATION : 3.2323688969258586\n",
      "HEALTH_AND_FITNESS : 3.0854430379746836\n",
      "PHOTOGRAPHY : 2.949819168173599\n",
      "NEWS_AND_MAGAZINES : 2.802893309222423\n",
      "SOCIAL : 2.667269439421338\n",
      "TRAVEL_AND_LOCAL : 2.3395117540687163\n",
      "SHOPPING : 2.2490958408679926\n",
      "BOOKS_AND_REFERENCE : 2.1360759493670884\n",
      "DATING : 1.8648282097649187\n",
      "VIDEO_PLAYERS : 1.7970162748643763\n",
      "MAPS_AND_NAVIGATION : 1.3901446654611211\n",
      "FOOD_AND_DRINK : 1.2432188065099457\n",
      "EDUCATION : 1.164104882459313\n",
      "ENTERTAINMENT : 0.9606690777576853\n",
      "LIBRARIES_AND_DEMO : 0.9380650994575045\n",
      "AUTO_AND_VEHICLES : 0.9267631103074141\n",
      "HOUSE_AND_HOME : 0.8024412296564195\n",
      "WEATHER : 0.7911392405063291\n",
      "EVENTS : 0.7120253164556962\n",
      "PARENTING : 0.6555153707052441\n",
      "ART_AND_DESIGN : 0.6442133815551537\n",
      "COMICS : 0.6103074141048824\n",
      "BEAUTY : 0.599005424954792\n"
     ]
    },
    {
     "data": {
      "text/plain": [
       "[(18.942133815551536, 'FAMILY'),\n",
       " (9.697106690777577, 'GAME'),\n",
       " (8.453887884267631, 'TOOLS'),\n",
       " (4.599909584086799, 'BUSINESS'),\n",
       " (3.899186256781193, 'PRODUCTIVITY'),\n",
       " (3.887884267631103, 'LIFESTYLE'),\n",
       " (3.7070524412296564, 'FINANCE'),\n",
       " (3.5375226039783, 'MEDICAL'),\n",
       " (3.390596745027125, 'SPORTS'),\n",
       " (3.322784810126582, 'PERSONALIZATION'),\n",
       " (3.2323688969258586, 'COMMUNICATION'),\n",
       " (3.0854430379746836, 'HEALTH_AND_FITNESS'),\n",
       " (2.949819168173599, 'PHOTOGRAPHY'),\n",
       " (2.802893309222423, 'NEWS_AND_MAGAZINES'),\n",
       " (2.667269439421338, 'SOCIAL'),\n",
       " (2.3395117540687163, 'TRAVEL_AND_LOCAL'),\n",
       " (2.2490958408679926, 'SHOPPING'),\n",
       " (2.1360759493670884, 'BOOKS_AND_REFERENCE'),\n",
       " (1.8648282097649187, 'DATING'),\n",
       " (1.7970162748643763, 'VIDEO_PLAYERS'),\n",
       " (1.3901446654611211, 'MAPS_AND_NAVIGATION'),\n",
       " (1.2432188065099457, 'FOOD_AND_DRINK'),\n",
       " (1.164104882459313, 'EDUCATION'),\n",
       " (0.9606690777576853, 'ENTERTAINMENT'),\n",
       " (0.9380650994575045, 'LIBRARIES_AND_DEMO'),\n",
       " (0.9267631103074141, 'AUTO_AND_VEHICLES'),\n",
       " (0.8024412296564195, 'HOUSE_AND_HOME'),\n",
       " (0.7911392405063291, 'WEATHER'),\n",
       " (0.7120253164556962, 'EVENTS'),\n",
       " (0.6555153707052441, 'PARENTING'),\n",
       " (0.6442133815551537, 'ART_AND_DESIGN'),\n",
       " (0.6103074141048824, 'COMICS'),\n",
       " (0.599005424954792, 'BEAUTY')]"
      ]
     },
     "execution_count": 96,
     "metadata": {},
     "output_type": "execute_result"
    }
   ],
   "source": [
    "display_table(free_google_apps, 1) #Category"
   ]
  },
  {
   "cell_type": "markdown",
   "metadata": {},
   "source": [
    "The landscape seems significantly different on Google Play: there are not that many apps designed for fun, and it seems that a good number of apps are designed for practical purposes (family, tools, business, lifestyle, productivity, etc.). However, if we investigate this further, we can see that the family category (which accounts for almost 19% of the apps) means mostly games for kids.\n",
    "Even so, practical apps seem to have a better representation on Google Play compared to App Store. This picture is also confirmed by the frequency table we see for the Genres column:"
   ]
  },
  {
   "cell_type": "code",
   "execution_count": 97,
   "metadata": {},
   "outputs": [
    {
     "name": "stdout",
     "output_type": "stream",
     "text": [
      "[(8.44258589511754, 'Tools'), (6.080470162748644, 'Entertainment'), (5.357142857142857, 'Education'), (4.599909584086799, 'Business'), (3.899186256781193, 'Productivity'), (3.8765822784810124, 'Lifestyle'), (3.7070524412296564, 'Finance'), (3.5375226039783, 'Medical'), (3.4584086799276674, 'Sports'), (3.322784810126582, 'Personalization'), (3.2323688969258586, 'Communication'), (3.096745027124774, 'Action'), (3.0854430379746836, 'Health & Fitness'), (2.949819168173599, 'Photography'), (2.802893309222423, 'News & Magazines'), (2.667269439421338, 'Social'), (2.328209764918626, 'Travel & Local'), (2.2490958408679926, 'Shopping'), (2.1360759493670884, 'Books & Reference'), (2.0456600361663653, 'Simulation'), (1.8648282097649187, 'Dating'), (1.842224231464738, 'Arcade'), (1.7744122965641953, 'Video Players & Editors'), (1.763110307414105, 'Casual'), (1.3901446654611211, 'Maps & Navigation'), (1.2432188065099457, 'Food & Drink'), (1.1301989150090417, 'Puzzle'), (0.9945750452079566, 'Racing'), (0.9380650994575045, 'Role Playing'), (0.9380650994575045, 'Libraries & Demo'), (0.9267631103074141, 'Auto & Vehicles'), (0.9154611211573236, 'Strategy'), (0.8024412296564195, 'House & Home'), (0.7911392405063291, 'Weather'), (0.7120253164556962, 'Events'), (0.6668173598553345, 'Adventure'), (0.599005424954792, 'Comics'), (0.599005424954792, 'Beauty'), (0.599005424954792, 'Art & Design'), (0.4972875226039783, 'Parenting'), (0.45207956600361665, 'Card'), (0.4181735985533454, 'Trivia'), (0.4181735985533454, 'Casino'), (0.39556962025316456, 'Educational;Education'), (0.3842676311030741, 'Board'), (0.3729656419529837, 'Educational'), (0.33905967450271246, 'Education;Education'), (0.25994575045207957, 'Word'), (0.23734177215189875, 'Casual;Pretend Play'), (0.2034358047016275, 'Music'), (0.16952983725135623, 'Racing;Action & Adventure'), (0.16952983725135623, 'Puzzle;Brain Games'), (0.16952983725135623, 'Entertainment;Music & Video'), (0.13562386980108498, 'Casual;Brain Games'), (0.13562386980108498, 'Casual;Action & Adventure'), (0.12432188065099457, 'Arcade;Action & Adventure'), (0.10171790235081375, 'Action;Action & Adventure'), (0.09041591320072333, 'Educational;Pretend Play'), (0.07911392405063292, 'Simulation;Action & Adventure'), (0.07911392405063292, 'Parenting;Education'), (0.07911392405063292, 'Entertainment;Brain Games'), (0.07911392405063292, 'Board;Brain Games'), (0.06781193490054249, 'Parenting;Music & Video'), (0.06781193490054249, 'Educational;Brain Games'), (0.06781193490054249, 'Casual;Creativity'), (0.06781193490054249, 'Art & Design;Creativity'), (0.05650994575045208, 'Education;Pretend Play'), (0.045207956600361664, 'Role Playing;Pretend Play'), (0.045207956600361664, 'Education;Creativity'), (0.033905967450271246, 'Role Playing;Action & Adventure'), (0.033905967450271246, 'Puzzle;Action & Adventure'), (0.033905967450271246, 'Entertainment;Creativity'), (0.033905967450271246, 'Entertainment;Action & Adventure'), (0.033905967450271246, 'Educational;Creativity'), (0.033905967450271246, 'Educational;Action & Adventure'), (0.033905967450271246, 'Education;Music & Video'), (0.033905967450271246, 'Education;Brain Games'), (0.033905967450271246, 'Education;Action & Adventure'), (0.033905967450271246, 'Adventure;Action & Adventure'), (0.022603978300180832, 'Video Players & Editors;Music & Video'), (0.022603978300180832, 'Sports;Action & Adventure'), (0.022603978300180832, 'Simulation;Pretend Play'), (0.022603978300180832, 'Puzzle;Creativity'), (0.022603978300180832, 'Music;Music & Video'), (0.022603978300180832, 'Entertainment;Pretend Play'), (0.022603978300180832, 'Casual;Education'), (0.022603978300180832, 'Board;Action & Adventure'), (0.011301989150090416, 'Video Players & Editors;Creativity'), (0.011301989150090416, 'Trivia;Education'), (0.011301989150090416, 'Travel & Local;Action & Adventure'), (0.011301989150090416, 'Tools;Education'), (0.011301989150090416, 'Strategy;Education'), (0.011301989150090416, 'Strategy;Creativity'), (0.011301989150090416, 'Strategy;Action & Adventure'), (0.011301989150090416, 'Simulation;Education'), (0.011301989150090416, 'Role Playing;Brain Games'), (0.011301989150090416, 'Racing;Pretend Play'), (0.011301989150090416, 'Puzzle;Education'), (0.011301989150090416, 'Parenting;Brain Games'), (0.011301989150090416, 'Music & Audio;Music & Video'), (0.011301989150090416, 'Lifestyle;Pretend Play'), (0.011301989150090416, 'Lifestyle;Education'), (0.011301989150090416, 'Health & Fitness;Education'), (0.011301989150090416, 'Health & Fitness;Action & Adventure'), (0.011301989150090416, 'Entertainment;Education'), (0.011301989150090416, 'Communication;Creativity'), (0.011301989150090416, 'Comics;Creativity'), (0.011301989150090416, 'Casual;Music & Video'), (0.011301989150090416, 'Card;Action & Adventure'), (0.011301989150090416, 'Books & Reference;Education'), (0.011301989150090416, 'Art & Design;Pretend Play'), (0.011301989150090416, 'Art & Design;Action & Adventure'), (0.011301989150090416, 'Arcade;Pretend Play'), (0.011301989150090416, 'Adventure;Education')]\n",
      "Tools : 8.44258589511754\n",
      "Entertainment : 6.080470162748644\n",
      "Education : 5.357142857142857\n",
      "Business : 4.599909584086799\n",
      "Productivity : 3.899186256781193\n",
      "Lifestyle : 3.8765822784810124\n",
      "Finance : 3.7070524412296564\n",
      "Medical : 3.5375226039783\n",
      "Sports : 3.4584086799276674\n",
      "Personalization : 3.322784810126582\n",
      "Communication : 3.2323688969258586\n",
      "Action : 3.096745027124774\n",
      "Health & Fitness : 3.0854430379746836\n",
      "Photography : 2.949819168173599\n",
      "News & Magazines : 2.802893309222423\n",
      "Social : 2.667269439421338\n",
      "Travel & Local : 2.328209764918626\n",
      "Shopping : 2.2490958408679926\n",
      "Books & Reference : 2.1360759493670884\n",
      "Simulation : 2.0456600361663653\n",
      "Dating : 1.8648282097649187\n",
      "Arcade : 1.842224231464738\n",
      "Video Players & Editors : 1.7744122965641953\n",
      "Casual : 1.763110307414105\n",
      "Maps & Navigation : 1.3901446654611211\n",
      "Food & Drink : 1.2432188065099457\n",
      "Puzzle : 1.1301989150090417\n",
      "Racing : 0.9945750452079566\n",
      "Role Playing : 0.9380650994575045\n",
      "Libraries & Demo : 0.9380650994575045\n",
      "Auto & Vehicles : 0.9267631103074141\n",
      "Strategy : 0.9154611211573236\n",
      "House & Home : 0.8024412296564195\n",
      "Weather : 0.7911392405063291\n",
      "Events : 0.7120253164556962\n",
      "Adventure : 0.6668173598553345\n",
      "Comics : 0.599005424954792\n",
      "Beauty : 0.599005424954792\n",
      "Art & Design : 0.599005424954792\n",
      "Parenting : 0.4972875226039783\n",
      "Card : 0.45207956600361665\n",
      "Trivia : 0.4181735985533454\n",
      "Casino : 0.4181735985533454\n",
      "Educational;Education : 0.39556962025316456\n",
      "Board : 0.3842676311030741\n",
      "Educational : 0.3729656419529837\n",
      "Education;Education : 0.33905967450271246\n",
      "Word : 0.25994575045207957\n",
      "Casual;Pretend Play : 0.23734177215189875\n",
      "Music : 0.2034358047016275\n",
      "Racing;Action & Adventure : 0.16952983725135623\n",
      "Puzzle;Brain Games : 0.16952983725135623\n",
      "Entertainment;Music & Video : 0.16952983725135623\n",
      "Casual;Brain Games : 0.13562386980108498\n",
      "Casual;Action & Adventure : 0.13562386980108498\n",
      "Arcade;Action & Adventure : 0.12432188065099457\n",
      "Action;Action & Adventure : 0.10171790235081375\n",
      "Educational;Pretend Play : 0.09041591320072333\n",
      "Simulation;Action & Adventure : 0.07911392405063292\n",
      "Parenting;Education : 0.07911392405063292\n",
      "Entertainment;Brain Games : 0.07911392405063292\n",
      "Board;Brain Games : 0.07911392405063292\n",
      "Parenting;Music & Video : 0.06781193490054249\n",
      "Educational;Brain Games : 0.06781193490054249\n",
      "Casual;Creativity : 0.06781193490054249\n",
      "Art & Design;Creativity : 0.06781193490054249\n",
      "Education;Pretend Play : 0.05650994575045208\n",
      "Role Playing;Pretend Play : 0.045207956600361664\n",
      "Education;Creativity : 0.045207956600361664\n",
      "Role Playing;Action & Adventure : 0.033905967450271246\n",
      "Puzzle;Action & Adventure : 0.033905967450271246\n",
      "Entertainment;Creativity : 0.033905967450271246\n",
      "Entertainment;Action & Adventure : 0.033905967450271246\n",
      "Educational;Creativity : 0.033905967450271246\n",
      "Educational;Action & Adventure : 0.033905967450271246\n",
      "Education;Music & Video : 0.033905967450271246\n",
      "Education;Brain Games : 0.033905967450271246\n",
      "Education;Action & Adventure : 0.033905967450271246\n",
      "Adventure;Action & Adventure : 0.033905967450271246\n",
      "Video Players & Editors;Music & Video : 0.022603978300180832\n",
      "Sports;Action & Adventure : 0.022603978300180832\n",
      "Simulation;Pretend Play : 0.022603978300180832\n",
      "Puzzle;Creativity : 0.022603978300180832\n",
      "Music;Music & Video : 0.022603978300180832\n",
      "Entertainment;Pretend Play : 0.022603978300180832\n",
      "Casual;Education : 0.022603978300180832\n",
      "Board;Action & Adventure : 0.022603978300180832\n",
      "Video Players & Editors;Creativity : 0.011301989150090416\n",
      "Trivia;Education : 0.011301989150090416\n",
      "Travel & Local;Action & Adventure : 0.011301989150090416\n",
      "Tools;Education : 0.011301989150090416\n",
      "Strategy;Education : 0.011301989150090416\n",
      "Strategy;Creativity : 0.011301989150090416\n",
      "Strategy;Action & Adventure : 0.011301989150090416\n",
      "Simulation;Education : 0.011301989150090416\n",
      "Role Playing;Brain Games : 0.011301989150090416\n",
      "Racing;Pretend Play : 0.011301989150090416\n",
      "Puzzle;Education : 0.011301989150090416\n",
      "Parenting;Brain Games : 0.011301989150090416\n",
      "Music & Audio;Music & Video : 0.011301989150090416\n",
      "Lifestyle;Pretend Play : 0.011301989150090416\n",
      "Lifestyle;Education : 0.011301989150090416\n",
      "Health & Fitness;Education : 0.011301989150090416\n",
      "Health & Fitness;Action & Adventure : 0.011301989150090416\n",
      "Entertainment;Education : 0.011301989150090416\n",
      "Communication;Creativity : 0.011301989150090416\n",
      "Comics;Creativity : 0.011301989150090416\n",
      "Casual;Music & Video : 0.011301989150090416\n",
      "Card;Action & Adventure : 0.011301989150090416\n",
      "Books & Reference;Education : 0.011301989150090416\n",
      "Art & Design;Pretend Play : 0.011301989150090416\n",
      "Art & Design;Action & Adventure : 0.011301989150090416\n",
      "Arcade;Pretend Play : 0.011301989150090416\n",
      "Adventure;Education : 0.011301989150090416\n"
     ]
    },
    {
     "data": {
      "text/plain": [
       "[(8.44258589511754, 'Tools'),\n",
       " (6.080470162748644, 'Entertainment'),\n",
       " (5.357142857142857, 'Education'),\n",
       " (4.599909584086799, 'Business'),\n",
       " (3.899186256781193, 'Productivity'),\n",
       " (3.8765822784810124, 'Lifestyle'),\n",
       " (3.7070524412296564, 'Finance'),\n",
       " (3.5375226039783, 'Medical'),\n",
       " (3.4584086799276674, 'Sports'),\n",
       " (3.322784810126582, 'Personalization'),\n",
       " (3.2323688969258586, 'Communication'),\n",
       " (3.096745027124774, 'Action'),\n",
       " (3.0854430379746836, 'Health & Fitness'),\n",
       " (2.949819168173599, 'Photography'),\n",
       " (2.802893309222423, 'News & Magazines'),\n",
       " (2.667269439421338, 'Social'),\n",
       " (2.328209764918626, 'Travel & Local'),\n",
       " (2.2490958408679926, 'Shopping'),\n",
       " (2.1360759493670884, 'Books & Reference'),\n",
       " (2.0456600361663653, 'Simulation'),\n",
       " (1.8648282097649187, 'Dating'),\n",
       " (1.842224231464738, 'Arcade'),\n",
       " (1.7744122965641953, 'Video Players & Editors'),\n",
       " (1.763110307414105, 'Casual'),\n",
       " (1.3901446654611211, 'Maps & Navigation'),\n",
       " (1.2432188065099457, 'Food & Drink'),\n",
       " (1.1301989150090417, 'Puzzle'),\n",
       " (0.9945750452079566, 'Racing'),\n",
       " (0.9380650994575045, 'Role Playing'),\n",
       " (0.9380650994575045, 'Libraries & Demo'),\n",
       " (0.9267631103074141, 'Auto & Vehicles'),\n",
       " (0.9154611211573236, 'Strategy'),\n",
       " (0.8024412296564195, 'House & Home'),\n",
       " (0.7911392405063291, 'Weather'),\n",
       " (0.7120253164556962, 'Events'),\n",
       " (0.6668173598553345, 'Adventure'),\n",
       " (0.599005424954792, 'Comics'),\n",
       " (0.599005424954792, 'Beauty'),\n",
       " (0.599005424954792, 'Art & Design'),\n",
       " (0.4972875226039783, 'Parenting'),\n",
       " (0.45207956600361665, 'Card'),\n",
       " (0.4181735985533454, 'Trivia'),\n",
       " (0.4181735985533454, 'Casino'),\n",
       " (0.39556962025316456, 'Educational;Education'),\n",
       " (0.3842676311030741, 'Board'),\n",
       " (0.3729656419529837, 'Educational'),\n",
       " (0.33905967450271246, 'Education;Education'),\n",
       " (0.25994575045207957, 'Word'),\n",
       " (0.23734177215189875, 'Casual;Pretend Play'),\n",
       " (0.2034358047016275, 'Music'),\n",
       " (0.16952983725135623, 'Racing;Action & Adventure'),\n",
       " (0.16952983725135623, 'Puzzle;Brain Games'),\n",
       " (0.16952983725135623, 'Entertainment;Music & Video'),\n",
       " (0.13562386980108498, 'Casual;Brain Games'),\n",
       " (0.13562386980108498, 'Casual;Action & Adventure'),\n",
       " (0.12432188065099457, 'Arcade;Action & Adventure'),\n",
       " (0.10171790235081375, 'Action;Action & Adventure'),\n",
       " (0.09041591320072333, 'Educational;Pretend Play'),\n",
       " (0.07911392405063292, 'Simulation;Action & Adventure'),\n",
       " (0.07911392405063292, 'Parenting;Education'),\n",
       " (0.07911392405063292, 'Entertainment;Brain Games'),\n",
       " (0.07911392405063292, 'Board;Brain Games'),\n",
       " (0.06781193490054249, 'Parenting;Music & Video'),\n",
       " (0.06781193490054249, 'Educational;Brain Games'),\n",
       " (0.06781193490054249, 'Casual;Creativity'),\n",
       " (0.06781193490054249, 'Art & Design;Creativity'),\n",
       " (0.05650994575045208, 'Education;Pretend Play'),\n",
       " (0.045207956600361664, 'Role Playing;Pretend Play'),\n",
       " (0.045207956600361664, 'Education;Creativity'),\n",
       " (0.033905967450271246, 'Role Playing;Action & Adventure'),\n",
       " (0.033905967450271246, 'Puzzle;Action & Adventure'),\n",
       " (0.033905967450271246, 'Entertainment;Creativity'),\n",
       " (0.033905967450271246, 'Entertainment;Action & Adventure'),\n",
       " (0.033905967450271246, 'Educational;Creativity'),\n",
       " (0.033905967450271246, 'Educational;Action & Adventure'),\n",
       " (0.033905967450271246, 'Education;Music & Video'),\n",
       " (0.033905967450271246, 'Education;Brain Games'),\n",
       " (0.033905967450271246, 'Education;Action & Adventure'),\n",
       " (0.033905967450271246, 'Adventure;Action & Adventure'),\n",
       " (0.022603978300180832, 'Video Players & Editors;Music & Video'),\n",
       " (0.022603978300180832, 'Sports;Action & Adventure'),\n",
       " (0.022603978300180832, 'Simulation;Pretend Play'),\n",
       " (0.022603978300180832, 'Puzzle;Creativity'),\n",
       " (0.022603978300180832, 'Music;Music & Video'),\n",
       " (0.022603978300180832, 'Entertainment;Pretend Play'),\n",
       " (0.022603978300180832, 'Casual;Education'),\n",
       " (0.022603978300180832, 'Board;Action & Adventure'),\n",
       " (0.011301989150090416, 'Video Players & Editors;Creativity'),\n",
       " (0.011301989150090416, 'Trivia;Education'),\n",
       " (0.011301989150090416, 'Travel & Local;Action & Adventure'),\n",
       " (0.011301989150090416, 'Tools;Education'),\n",
       " (0.011301989150090416, 'Strategy;Education'),\n",
       " (0.011301989150090416, 'Strategy;Creativity'),\n",
       " (0.011301989150090416, 'Strategy;Action & Adventure'),\n",
       " (0.011301989150090416, 'Simulation;Education'),\n",
       " (0.011301989150090416, 'Role Playing;Brain Games'),\n",
       " (0.011301989150090416, 'Racing;Pretend Play'),\n",
       " (0.011301989150090416, 'Puzzle;Education'),\n",
       " (0.011301989150090416, 'Parenting;Brain Games'),\n",
       " (0.011301989150090416, 'Music & Audio;Music & Video'),\n",
       " (0.011301989150090416, 'Lifestyle;Pretend Play'),\n",
       " (0.011301989150090416, 'Lifestyle;Education'),\n",
       " (0.011301989150090416, 'Health & Fitness;Education'),\n",
       " (0.011301989150090416, 'Health & Fitness;Action & Adventure'),\n",
       " (0.011301989150090416, 'Entertainment;Education'),\n",
       " (0.011301989150090416, 'Communication;Creativity'),\n",
       " (0.011301989150090416, 'Comics;Creativity'),\n",
       " (0.011301989150090416, 'Casual;Music & Video'),\n",
       " (0.011301989150090416, 'Card;Action & Adventure'),\n",
       " (0.011301989150090416, 'Books & Reference;Education'),\n",
       " (0.011301989150090416, 'Art & Design;Pretend Play'),\n",
       " (0.011301989150090416, 'Art & Design;Action & Adventure'),\n",
       " (0.011301989150090416, 'Arcade;Pretend Play'),\n",
       " (0.011301989150090416, 'Adventure;Education')]"
      ]
     },
     "execution_count": 97,
     "metadata": {},
     "output_type": "execute_result"
    }
   ],
   "source": [
    "display_table(free_google_apps, 9) #Genres"
   ]
  },
  {
   "cell_type": "markdown",
   "metadata": {
    "collapsed": true
   },
   "source": [
    "One way to find out what genres are the most popular (have the most users) is to calculate the average number of installs for each app genre. For the Google Play data set, we can find this information in the Installs column, but this information is missing for the App Store data set. As a workaround, we'll take the total number of user ratings as a proxy, which we can find in the rating_count_tot app."
   ]
  },
  {
   "cell_type": "markdown",
   "metadata": {},
   "source": [
    "**Calculating the average number of user ratings per app genre on the App Store**"
   ]
  },
  {
   "cell_type": "code",
   "execution_count": 98,
   "metadata": {},
   "outputs": [
    {
     "name": "stdout",
     "output_type": "stream",
     "text": [
      "Social Networking : 7584125.0\n",
      "Photo & Video : 4550647.0\n",
      "Games : 42705789.0\n",
      "Music : 3783551.0\n",
      "Reference : 1348958.0\n",
      "Health & Fitness : 1514371.0\n",
      "Weather : 1463837.0\n",
      "Utilities : 1513363.0\n",
      "Travel : 1129752.0\n",
      "Shopping : 2260151.0\n",
      "News : 913665.0\n",
      "Navigation : 516542.0\n",
      "Lifestyle : 840774.0\n",
      "Entertainment : 3563035.0\n",
      "Food & Drink : 866682.0\n",
      "Sports : 1587614.0\n",
      "Book : 556619.0\n",
      "Finance : 1132846.0\n",
      "Education : 826470.0\n",
      "Productivity : 1177591.0\n",
      "Business : 127349.0\n",
      "Catalogs : 16016.0\n",
      "Medical : 3672.0\n"
     ]
    }
   ],
   "source": [
    "genres_ios = freq_table(free_app_store, -5)\n",
    "\n",
    "for genre in genres_ios:\n",
    "    total = 0 ##this variable stores the sum of user ratings, specific to each genre\n",
    "    len_genre = 0 ##this variable stores the number of apps specific to each genre\n",
    "    for app in free_app_store:\n",
    "        genre_app = app[-5]\n",
    "        if genre_app == genre:\n",
    "            n_ratings = float(app[5])\n",
    "            total += n_ratings\n",
    "            len_genre =+ 1\n",
    "    avg_ratings = total / len_genre\n",
    "    print(genre, \":\", avg_ratings)"
   ]
  },
  {
   "cell_type": "markdown",
   "metadata": {
    "collapsed": true
   },
   "source": [
    "Looking at the results from our average-rating table, we can see \"Games\" has the highest mean of ratings (42.705.789,00)."
   ]
  },
  {
   "cell_type": "code",
   "execution_count": 99,
   "metadata": {},
   "outputs": [
    {
     "name": "stdout",
     "output_type": "stream",
     "text": [
      "ART_AND_DESIGN : 1986335.0877192982\n",
      "AUTO_AND_VEHICLES : 647317.8170731707\n",
      "BEAUTY : 513151.88679245283\n",
      "BOOKS_AND_REFERENCE : 8814199.78835979\n",
      "BUSINESS : 1712290.1474201474\n",
      "COMICS : 832613.8888888889\n",
      "COMMUNICATION : 38590581.08741259\n",
      "DATING : 854028.8303030303\n",
      "EDUCATION : 1833495.145631068\n",
      "ENTERTAINMENT : 11640705.88235294\n",
      "EVENTS : 253542.22222222222\n",
      "FINANCE : 1387692.475609756\n",
      "FOOD_AND_DRINK : 1924897.7363636363\n",
      "HEALTH_AND_FITNESS : 4188821.9853479853\n",
      "HOUSE_AND_HOME : 1360598.042253521\n",
      "LIBRARIES_AND_DEMO : 638503.734939759\n",
      "LIFESTYLE : 1446158.2238372094\n",
      "GAME : 15544014.51048951\n",
      "FAMILY : 3695641.8198090694\n",
      "MEDICAL : 120550.61980830671\n",
      "SOCIAL : 23253652.127118643\n",
      "SHOPPING : 7036877.311557789\n",
      "PHOTOGRAPHY : 17840110.40229885\n",
      "SPORTS : 3650602.276666667\n",
      "TRAVEL_AND_LOCAL : 13984077.710144928\n",
      "TOOLS : 10830251.970588235\n",
      "PERSONALIZATION : 5201482.6122448975\n",
      "PRODUCTIVITY : 16787331.344927534\n",
      "PARENTING : 542603.6206896552\n",
      "WEATHER : 5145550.285714285\n",
      "VIDEO_PLAYERS : 24727872.452830188\n",
      "NEWS_AND_MAGAZINES : 9549178.467741935\n",
      "MAPS_AND_NAVIGATION : 4049274.6341463416\n"
     ]
    }
   ],
   "source": [
    "google_installs = freq_table(free_google_apps, 1)\n",
    "for category in google_installs:\n",
    "    total = 0\n",
    "    len_category = 0\n",
    "    for app in free_google_apps:\n",
    "        category_app = app[1]\n",
    "        if category_app == category:\n",
    "            n_installs = (app[5])\n",
    "            n_installs = n_installs.replace(',', '')\n",
    "            n_installs = n_installs.replace('+', '')\n",
    "            total += float(n_installs)\n",
    "            len_category +=1\n",
    "    avg_n_installs = total / len_category\n",
    "    print(category, \":\", avg_n_installs)"
   ]
  },
  {
   "cell_type": "code",
   "execution_count": null,
   "metadata": {},
   "outputs": [],
   "source": []
  }
 ],
 "metadata": {
  "kernelspec": {
   "display_name": "Python 3",
   "language": "python",
   "name": "python3"
  },
  "language_info": {
   "codemirror_mode": {
    "name": "ipython",
    "version": 3
   },
   "file_extension": ".py",
   "mimetype": "text/x-python",
   "name": "python",
   "nbconvert_exporter": "python",
   "pygments_lexer": "ipython3",
   "version": "3.7.3"
  }
 },
 "nbformat": 4,
 "nbformat_minor": 2
}
